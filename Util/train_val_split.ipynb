{
 "cells": [
  {
   "cell_type": "code",
   "execution_count": 23,
   "metadata": {},
   "outputs": [],
   "source": [
    "import os\n",
    "import shutil\n",
    "import random\n",
    "import itertools"
   ]
  },
  {
   "cell_type": "markdown",
   "metadata": {},
   "source": [
    "# Changeable params"
   ]
  },
  {
   "cell_type": "code",
   "execution_count": 14,
   "metadata": {},
   "outputs": [],
   "source": [
    "# Should be the directory that contains subdirectories of the aves dataset\n",
    "# TODO: Change this as necessary\n",
    "full_dir = r'D:\\Resources\\Inat_Partial\\Aves_Small_SS2'\n",
    "# Make sure to clean these two directories first\n",
    "train_dir = r'D:\\Resources\\Inat_Partial\\Aves_Small_SS2_Train'\n",
    "val_dir = r'D:\\Resources\\Inat_Partial\\Aves_Small_SS2_Validation'\n",
    "\n",
    "random_seed = 5703\n",
    "# default is 5-fold stratified validation\n",
    "k = 5\n",
    "# Whether to shuffle the file first before splitting them, \n",
    "# by default always use the last 10% of the images in each directory as validation\n",
    "split_shuffle = False"
   ]
  },
  {
   "cell_type": "code",
   "execution_count": 3,
   "metadata": {},
   "outputs": [],
   "source": [
    "if(os.path.isdir(train_dir) == False):\n",
    "    os.mkdir(train_dir)\n",
    "if(os.path.isdir(val_dir) == False):\n",
    "    os.mkdir(val_dir)"
   ]
  },
  {
   "cell_type": "code",
   "execution_count": 19,
   "metadata": {},
   "outputs": [],
   "source": [
    "def chunks(seq, num):\n",
    "    \"\"\"\n",
    "    Divide a sequence into num of chunks\n",
    "    https://stackoverflow.com/questions/2130016/splitting-a-list-into-n-parts-of-approximately-equal-length\n",
    "    \"\"\"\n",
    "    avg = len(seq) / float(num)\n",
    "    out = []\n",
    "    last = 0.0\n",
    "\n",
    "    while last < len(seq):\n",
    "        out.append(seq[int(last):int(last + avg)])\n",
    "        last += avg\n",
    "\n",
    "    return out"
   ]
  },
  {
   "cell_type": "code",
   "execution_count": 39,
   "metadata": {},
   "outputs": [],
   "source": [
    "subdirs = os.listdir(full_dir)\n",
    "# make the subdir for cross validation first, since the loop order is different\n",
    "for cur_k in range(k):\n",
    "    cur_train_subdir = os.path.join(train_dir, r'CV_'+str(cur_k))\n",
    "    cur_val_subdir = os.path.join(val_dir, r'CV_'+str(cur_k))\n",
    "    os.mkdir(cur_train_subdir)\n",
    "    os.mkdir(cur_val_subdir)\n",
    "for subdir in subdirs:\n",
    "    cur_parent_subdir = os.path.join(full_dir, subdir)\n",
    "    parent_subdir_images = os.listdir(cur_parent_subdir)\n",
    "    if split_shuffle == True:\n",
    "        random.seed(random_seed)\n",
    "        random.shuffle(parent_subdir_images)\n",
    "    \n",
    "    # Split the subdir images into even sized k chunks\n",
    "    parent_subdir_images = list(chunks(parent_subdir_images, k))\n",
    "    for cur_k in range(k):\n",
    "        cur_train_subdir = os.path.join(train_dir, r'CV_'+str(cur_k), subdir)\n",
    "        cur_val_subdir = os.path.join(val_dir, r'CV_'+str(cur_k), subdir)\n",
    "        os.mkdir(cur_train_subdir)\n",
    "        os.mkdir(cur_val_subdir)\n",
    "        # Joining list of lists\n",
    "        train_images = (list(itertools.chain(*parent_subdir_images[0:cur_k])) + \n",
    "                        list(itertools.chain(*parent_subdir_images[cur_k+1:k])))\n",
    "        val_images = parent_subdir_images[cur_k]\n",
    "        for img_to_train in train_images:\n",
    "            shutil.copy(os.path.join(cur_parent_subdir,img_to_train), os.path.join(cur_train_subdir,img_to_train))\n",
    "        for img_to_val in val_images:\n",
    "            shutil.copy(os.path.join(cur_parent_subdir,img_to_val), os.path.join(cur_val_subdir,img_to_val))\n",
    "    "
   ]
  }
 ],
 "metadata": {
  "kernelspec": {
   "display_name": "Python 3",
   "language": "python",
   "name": "python3"
  },
  "language_info": {
   "codemirror_mode": {
    "name": "ipython",
    "version": 3
   },
   "file_extension": ".py",
   "mimetype": "text/x-python",
   "name": "python",
   "nbconvert_exporter": "python",
   "pygments_lexer": "ipython3",
   "version": "3.6.4"
  }
 },
 "nbformat": 4,
 "nbformat_minor": 2
}
