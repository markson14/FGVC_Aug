{
 "cells": [
  {
   "cell_type": "markdown",
   "metadata": {},
   "source": [
    "# Summary\n",
    "TODO"
   ]
  },
  {
   "cell_type": "code",
   "execution_count": null,
   "metadata": {},
   "outputs": [],
   "source": [
    "import os\n",
    "import numpy as np\n",
    "import matplotlib.pyplot as plt\n",
    "import cv2\n",
    "from keras.models import load_model\n",
    "from keras.preprocessing import image\n",
    "from keras import backend as K"
   ]
  },
  {
   "cell_type": "code",
   "execution_count": null,
   "metadata": {},
   "outputs": [],
   "source": [
    "# Configurable model parameter\n",
    "model_path = r'../InceptionResNet_v2/inceptionresnet_v2_subset2_cv0_shape480_12_epoch.h5'\n",
    "# Just to get the label name from the class number\n",
    "model_train_dir = r'D:\\Resources\\Inat_Partial\\Aves_Small_SS2_Train\\CV_0'\n",
    "# Last convolutional layer name, search it first using model.summary()\n",
    "last_conv_layer_name = r'conv_7b_ac'\n",
    "# Dimension of images used to train the model (after resizing)\n",
    "train_model_width = 480\n",
    "train_model_height = 480"
   ]
  },
  {
   "cell_type": "code",
   "execution_count": null,
   "metadata": {},
   "outputs": [],
   "source": [
    "# Generated variable that might be quite heavy, load it only once\n",
    "model = load_model(model_path)\n",
    "class_labels = os.listdir(model_train_dir)\n",
    "class_to_label = {c:i for i,c in enumerate(class_labels)}"
   ]
  },
  {
   "cell_type": "code",
   "execution_count": null,
   "metadata": {},
   "outputs": [],
   "source": [
    "# The main function\n",
    "# Taken from the Deep Learning with Python textbook, with a little bit of modification to generalize it\n",
    "def generate_prediction_heatmap(model, class_labels, \n",
    "                                train_model_width, train_model_height, \n",
    "                                last_conv_layer_name,\n",
    "                                input_image_path,\n",
    "                                output_image_dir,\n",
    "                                heatmap_class_label=-1,\n",
    "                                skip_true_prediction=False,\n",
    "                                verbose=True):\n",
    "    if verbose:\n",
    "        print('Loading image from:', input_image_path)\n",
    "    img = image.load_img(input_image_path, target_size=(train_model_height,train_model_width))\n",
    "\n",
    "    x = image.img_to_array(img)\n",
    "    x = np.expand_dims(x, axis=0)\n",
    "    x = x/255\n",
    "    \n",
    "    y_prob = model.predict(x)\n",
    "    best_y_class = y_prob.argmax(axis=-1)[0]\n",
    "    if verbose:\n",
    "        print('-'*20)\n",
    "        for i,prob in enumerate(y_prob[0]):\n",
    "            print('Class:',class_labels[i],', probability:','{:.4f}'.format(prob))\n",
    "        print('-'*20)\n",
    "        print('Predicted :', class_labels[y_class], 'as the best class')\n",
    "    \n",
    "    # If generating the heatmap of true prediction is not necessary, i.e. we are only interested in comparing false prediction\n",
    "    if skip_true_prediction and best_y_class == heatmap_class_label:\n",
    "        if verbose:\n",
    "            print('Skipping ',input_image_path)\n",
    "        return\n",
    "        \n",
    "    # Also use the supplied label to generate the heatmap if supplied, use only the best class otherwise\n",
    "    y_classes = [best_y_class] if heatmap_class_label == -1 else [best_y_class, heatmap_class_label]            \n",
    "    \n",
    "    # Generate all the heatmap image of pre-determined list of classes\n",
    "    for y_class in y_classes:\n",
    "        out = model.output[:,y_class]\n",
    "        last_conv_layer = model.get_layer(last_conv_layer_name)\n",
    "        grads = K.gradients(out, last_conv_layer.output)[0]\n",
    "        pooled_grads = K.mean(grads, axis=(0,1,2))\n",
    "        iterate = K.Function([model.input], [pooled_grads, last_conv_layer.output[0]])\n",
    "        pooled_grads_value, conv_layer_output_value = iterate([x])\n",
    "        for i in range(last_conv_layer.output_shape[-1]):\n",
    "            conv_layer_output_value[:,:,i] *= pooled_grads_value[i]\n",
    "\n",
    "        heatmap = np.mean(conv_layer_output_value, axis=-1)\n",
    "        heatmap = np.maximum(heatmap,0)\n",
    "        heatmap /= np.max(heatmap)  \n",
    "\n",
    "        img = cv2.imread(input_image_path)\n",
    "        # Need to be converted due to weird colour ordering of the image\n",
    "        img = cv2.cvtColor(img, cv2.COLOR_BGR2RGB)\n",
    "        heatmap = cv2.resize(heatmap, (img.shape[1], img.shape[0]))\n",
    "        heatmap = np.uint8(255 * heatmap)\n",
    "        heatmap = cv2.applyColorMap(heatmap, cv2.COLORMAP_JET)\n",
    "        superimposed_img = heatmap * 0.4 + img\n",
    "        \n",
    "        # abcd1234_classname.jpg seems like a better format\n",
    "        output_image_name = os.path.basename(input_image_path).split('.')[0] + '_' + class_labels[y_class] + '.jpg'\n",
    "        output_image_path = os.path.join(output_image_dir, output_image_name)\n",
    "        if verbose:\n",
    "            print('Generating output heatmap image at:',output_image_path)\n",
    "            print()\n",
    "        _ = cv2.imwrite(output_image_path, superimposed_img)\n",
    "        del superimposed_img, heatmap, img"
   ]
  },
  {
   "cell_type": "code",
   "execution_count": null,
   "metadata": {},
   "outputs": [],
   "source": [
    "# Main script for the input and output image stuff, change this!\n",
    "input_image_dir = r'D:\\Resources\\Inat_Partial\\Aves_Small_SS2_Validation\\CV_0\\Gallus gallus domesticus'\n",
    "input_image_name = r'068356929d08cc4cdfd69050763ca165.jpg'\n",
    "output_image_dir = r'D:\\Dummy\\temp_out\\heatmap'\n",
    "# ------------------------------------------------------------------\n",
    "input_image_path = os.path.join(input_image_dir,input_image_name)\n",
    "generate_prediction_heatmap(model, class_labels, \n",
    "                            train_model_width, train_model_height, \n",
    "                            last_conv_layer_name, \n",
    "                            input_image_path, output_image_dir)"
   ]
  },
  {
   "cell_type": "code",
   "execution_count": null,
   "metadata": {},
   "outputs": [],
   "source": [
    "# the directory version of main script\n",
    "# Configurable directory parameter\n",
    "species_name = 'Thryothorus ludovicianus'\n",
    "# Whether to also generate the true class image or not, otherwise only generate the best predicted class\n",
    "use_true_species_label = True\n",
    "# In case that we are only interested in generating false predicted images, usually for validation images\n",
    "skip_true_prediction = True\n",
    "# Keep this one low (but >0) if true prediction is generated\n",
    "image_limit = -1\n",
    "# input_image_base_dir = r'D:\\Resources\\Inat_Partial\\Aves_Small_SS2_Train\\CV_0'\n",
    "# output_image_base_dir = r'D:\\Dummy\\temp_out\\heatmap_ss2_train'\n",
    "input_image_base_dir = r'D:\\Resources\\Inat_Partial\\Aves_Small_SS2_Validation\\CV_0'\n",
    "output_image_base_dir = r'D:\\Dummy\\temp_out\\heatmap_ss2_validation'\n",
    "\n",
    "# ---------------------------------------------------------------------------\n",
    "heatmap_class_label = class_to_label[species_name]  if use_true_species_label else -1\n",
    "input_image_dir = os.path.join(input_image_base_dir,species_name)\n",
    "output_image_dir = os.path.join(output_image_base_dir,species_name)\n",
    "if os.path.isdir(output_image_dir) == False:\n",
    "    os.mkdir(output_image_dir)\n",
    "for input_image_name in os.listdir(input_image_dir)[:image_limit]:\n",
    "    input_image_path = os.path.join(input_image_dir,input_image_name)\n",
    "    generate_prediction_heatmap(model, class_labels, \n",
    "                                train_model_width, train_model_height, \n",
    "                                last_conv_layer_name, \n",
    "                                input_image_path, output_image_dir, \n",
    "                                heatmap_class_label,\n",
    "                                skip_true_prediction=skip_true_prediction,\n",
    "                                verbose=False)"
   ]
  }
 ],
 "metadata": {
  "kernelspec": {
   "display_name": "Python 3",
   "language": "python",
   "name": "python3"
  },
  "language_info": {
   "codemirror_mode": {
    "name": "ipython",
    "version": 3
   },
   "file_extension": ".py",
   "mimetype": "text/x-python",
   "name": "python",
   "nbconvert_exporter": "python",
   "pygments_lexer": "ipython3",
   "version": "3.6.4"
  }
 },
 "nbformat": 4,
 "nbformat_minor": 2
}
