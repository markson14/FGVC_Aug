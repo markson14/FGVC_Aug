{
 "cells": [
  {
   "cell_type": "markdown",
   "metadata": {},
   "source": [
    "# Summary\n",
    "This script is written to transform training images for transfer learning using the output bounding box calculated using YOLO"
   ]
  },
  {
   "cell_type": "code",
   "execution_count": null,
   "metadata": {},
   "outputs": [],
   "source": [
    "import os\n",
    "import pathlib\n",
    "from PIL import Image"
   ]
  },
  {
   "cell_type": "code",
   "execution_count": null,
   "metadata": {},
   "outputs": [],
   "source": [
    "# Changeable Param\n",
    "train_dir = r'D:\\Resources\\Inat_Partial\\Aves_Small_SS1_Train\\CV_0'\n",
    "output_dir = r'D:\\Resources\\Inat_Partial\\Aves_Small_SS1_Train_YOLO\\CV_0'\n",
    "yolo_output_csv = r'D:\\Workspace\\Jupyter\\COMP5703\\Resources\\ss1_bbox.csv'"
   ]
  },
  {
   "cell_type": "code",
   "execution_count": null,
   "metadata": {},
   "outputs": [],
   "source": [
    "if(os.path.isdir(output_dir) == False):\n",
    "    pathlib.Path(output_dir).mkdir(parents=True, exist_ok=True)"
   ]
  },
  {
   "cell_type": "code",
   "execution_count": null,
   "metadata": {},
   "outputs": [],
   "source": [
    "def crop(image_path, coords, saved_location):\n",
    "    \"\"\"\n",
    "    @param image_path: The path to the image to edit\n",
    "    @param coords: A tuple of x/y coordinates (x1, y1, x2, y2)\n",
    "    @param saved_location: Path to save the cropped image\n",
    "    \"\"\"\n",
    "    try:\n",
    "        image_obj = Image.open(image_path)\n",
    "        cropped_image = image_obj.crop(coords)\n",
    "        cropped_image.save(saved_location)\n",
    "    except Exception as e:\n",
    "        pass"
   ]
  },
  {
   "cell_type": "code",
   "execution_count": null,
   "metadata": {},
   "outputs": [],
   "source": [
    "with open(yolo_output_csv, 'r', encoding='utf-8') as yoc:\n",
    "    prev_index = 0\n",
    "    prev_image_name = ''\n",
    "    for i,line in enumerate(yoc):\n",
    "        if i % 1000 == 0:\n",
    "            print('Parsing line',i)\n",
    "        subdir, image_name, top, left, bottom, right, score = line.split(',')\n",
    "        top, left, bottom, right = [int(coor) for coor in (top, left, bottom, right)]\n",
    "        score = float(score)\n",
    "        train_image_path = os.path.join(train_dir, subdir, image_name)\n",
    "        output_subdir_path = os.path.join(output_dir, subdir)\n",
    "        # In case that one image has more than one bounding boxes, the next one has to be saved in a different name\n",
    "        if prev_image_name == image_name:\n",
    "            # If prev image is abcd.jpg, the next one will be saved as abcd(1).jpg and so on\n",
    "            custom_image_name = (image_name.split('.')[0] + r'(' + \n",
    "                                 str(prev_index) + r')' + r'.' + \n",
    "                                 image_name.split('.')[1])\n",
    "            output_image_path = os.path.join(output_dir, subdir, custom_image_name)\n",
    "        else:\n",
    "            output_image_path = os.path.join(output_dir, subdir, image_name)\n",
    "        \n",
    "        if(os.path.isdir(output_subdir_path) == False):\n",
    "            os.mkdir(output_subdir_path)\n",
    "        crop(train_image_path, (left,top,right,bottom), output_image_path)\n",
    "        \n",
    "        prev_index += 1\n",
    "        prev_image_name = image_name"
   ]
  },
  {
   "cell_type": "code",
   "execution_count": null,
   "metadata": {},
   "outputs": [],
   "source": []
  }
 ],
 "metadata": {
  "kernelspec": {
   "display_name": "Python 3",
   "language": "python",
   "name": "python3"
  },
  "language_info": {
   "codemirror_mode": {
    "name": "ipython",
    "version": 3
   },
   "file_extension": ".py",
   "mimetype": "text/x-python",
   "name": "python",
   "nbconvert_exporter": "python",
   "pygments_lexer": "ipython3",
   "version": "3.6.4"
  }
 },
 "nbformat": 4,
 "nbformat_minor": 2
}
