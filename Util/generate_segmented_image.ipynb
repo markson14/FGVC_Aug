{
 "cells": [
  {
   "cell_type": "markdown",
   "metadata": {},
   "source": [
    "### Summary\n",
    "In contrast to the generate augmented image which put the object on filled background, this script put the object on top of black background of the same size"
   ]
  },
  {
   "cell_type": "code",
   "execution_count": null,
   "metadata": {},
   "outputs": [],
   "source": [
    "import os\n",
    "import cv2\n",
    "import numpy as np\n",
    "import random"
   ]
  },
  {
   "cell_type": "code",
   "execution_count": null,
   "metadata": {},
   "outputs": [],
   "source": [
    "# To make sure that augmented images is not generated from validation object/background\n",
    "VALIDATION_PATH = r'D:\\Resources\\Inat_Partial\\Aves_Small_SS1_Validation\\CV_0'\n",
    "\n",
    "#OBJECT_PATH = r'D:\\Resources\\Inat_Partial\\Aves_Small_SS1_Object'\n",
    "OBJECT_PATH = r'D:\\Resources\\Inat_Partial\\Aves_Small_SS1_Object'\n",
    "OUTPUT_PATH = r'D:\\Resources\\Inat_Partial\\Aves_Small_SS1_Segmented'\n",
    "\n",
    "# Minimum dimension of the background, will be extended if the object size is bigger\n",
    "MIN_IMAGE_SHAPE = (480,480)"
   ]
  },
  {
   "cell_type": "code",
   "execution_count": null,
   "metadata": {},
   "outputs": [],
   "source": [
    "if os.path.isdir(OUTPUT_PATH) == False:\n",
    "    os.mkdir(OUTPUT_PATH)"
   ]
  },
  {
   "cell_type": "code",
   "execution_count": null,
   "metadata": {},
   "outputs": [],
   "source": [
    "# Set of filenames not to be used as background or foreground for each subdir\n",
    "restricted_files = dict()\n",
    "\n",
    "for subdir_name in os.listdir(VALIDATION_PATH):\n",
    "    subdir_path = os.path.join(VALIDATION_PATH, subdir_name)\n",
    "    restricted_files[subdir_name] = set()\n",
    "    for image_name in os.listdir(subdir_path):\n",
    "        restricted_files[subdir_name].add(image_name.split('.')[0])"
   ]
  },
  {
   "cell_type": "code",
   "execution_count": null,
   "metadata": {},
   "outputs": [],
   "source": [
    "def generate_segmented_image(ob_path, out_path):\n",
    "    ob = cv2.imread(ob_path, cv2.IMREAD_UNCHANGED)\n",
    "    bg = np.zeros((np.max([ob.shape[0], MIN_IMAGE_SHAPE[0]]), \n",
    "                   np.max([ob.shape[1], MIN_IMAGE_SHAPE[1]]), \n",
    "                   3))\n",
    "    \n",
    "    # Get the top left of bounding box coordinate on the background to be replaced with the object\n",
    "    # Object should be centered in the background, with possibly a little translation\n",
    "    # Just naming them so they are easier to imagine\n",
    "    bg_center_x = bg.shape[1] // 2\n",
    "    bg_center_y = bg.shape[0] // 2\n",
    "    bg_width = bg.shape[1]\n",
    "    bg_height = bg.shape[0]\n",
    "    ob_width = ob.shape[1]\n",
    "    ob_height = ob.shape[0]\n",
    "    \n",
    "    # Make sure that the object is not bigger than the background in any dimension\n",
    "    if ob_width > bg_width or ob_height > bg_height:\n",
    "        return False\n",
    "\n",
    "    box_topleft_x = bg_center_x - (ob_width//2)\n",
    "    # Readjust the value if they go beyond the limit (0,bg_width-1) and (0,bg_height-1)\n",
    "    box_topleft_x = 0 if box_topleft_x < 0 else box_topleft_x\n",
    "    if box_topleft_x + ob_width > bg_width - 1:\n",
    "        excess_width = (box_topleft_x + ob_width) - (bg_width - 1)\n",
    "        box_topleft_x -= excess_width\n",
    "    # Used to horizontally flip the object\n",
    "    box_botright_x =box_topleft_x + ob_width\n",
    "    \n",
    "    box_topleft_y = bg_center_y - (ob_height//2)\n",
    "    # Readjust the value if they go beyond the limit (0,bg_width-1) and (0,bg_height-1)\n",
    "    box_topleft_y = 0 if box_topleft_y < 0 else box_topleft_y\n",
    "    if box_topleft_y + ob_height > bg_height - 1:\n",
    "        excess_height = (box_topleft_y + ob_height) - (bg_height - 1)\n",
    "        box_topleft_y -= excess_height\n",
    "        \n",
    "    # Replace the background pixel with the object pixel if alpha > 0\n",
    "    obj_pixels_y, obj_pixels_x = np.where(ob[:,:,3] > 0)\n",
    "    for py,px in zip(obj_pixels_y, obj_pixels_x):\n",
    "        bg_x = box_topleft_x+px\n",
    "        bg_y = box_topleft_y+py\n",
    "        bg[bg_y, bg_x] = ob[py,px,:3]\n",
    "    cv2.imwrite(out_path, bg)\n",
    "    del bg,ob\n",
    "    return True"
   ]
  },
  {
   "cell_type": "code",
   "execution_count": null,
   "metadata": {},
   "outputs": [],
   "source": [
    "# Start the loop from the object images\n",
    "for obj_subdir_name in os.listdir(OBJECT_PATH):\n",
    "    print('Augmenting',obj_subdir_name)\n",
    "    obj_subdir_path = os.path.join(OBJECT_PATH, obj_subdir_name)\n",
    "    output_subdir_path = os.path.join(OUTPUT_PATH, obj_subdir_name)\n",
    "    if os.path.isdir(output_subdir_path) == False:\n",
    "        os.mkdir(output_subdir_path)\n",
    "    for obj_image_name in os.listdir(obj_subdir_path):\n",
    "        # check for restricted files\n",
    "        # object image follow the naming scheme of $imagename_index.png, so split based on _ instead\n",
    "        obj_image_name_ori = obj_image_name.split('_')[0]\n",
    "        if obj_image_name_ori in restricted_files[obj_subdir_name]:\n",
    "            continue\n",
    "            \n",
    "        obj_image_path = os.path.join(obj_subdir_path, obj_image_name)\n",
    "        # Output image name is $objname_s.jpg\n",
    "        output_image_path = os.path.join(output_subdir_path, \n",
    "                                         obj_image_name_ori + '_s.jpg')\n",
    "        generate_segmented_image(obj_image_path, output_image_path)"
   ]
  },
  {
   "cell_type": "code",
   "execution_count": null,
   "metadata": {},
   "outputs": [],
   "source": []
  }
 ],
 "metadata": {
  "kernelspec": {
   "display_name": "Python 3",
   "language": "python",
   "name": "python3"
  },
  "language_info": {
   "codemirror_mode": {
    "name": "ipython",
    "version": 3
   },
   "file_extension": ".py",
   "mimetype": "text/x-python",
   "name": "python",
   "nbconvert_exporter": "python",
   "pygments_lexer": "ipython3",
   "version": "3.6.4"
  }
 },
 "nbformat": 4,
 "nbformat_minor": 2
}
